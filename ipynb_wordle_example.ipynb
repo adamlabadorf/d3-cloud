{
 "metadata": {
  "name": "ipynb_wordle_example"
 },
 "nbformat": 3,
 "nbformat_minor": 0,
 "worksheets": [
  {
   "cells": [
    {
     "cell_type": "code",
     "collapsed": false,
     "input": [
      "import urllib2\n",
      "exec urllib2.urlopen('http://adamlabadorf.github.io/d3-cloud/ipynb_wordle.py').read()"
     ],
     "language": "python",
     "metadata": {},
     "outputs": [
      {
       "html": [
        "\n",
        "        <script>\n",
        "        var exports = {};\n",
        "        </script>\n",
        "        <script src=\"http://d3js.org/d3.v3.min.js\" charset=\"utf-8\"></script>\n",
        "        <script src=\"http://adamlabadorf.github.io/d3-cloud/d3.layout.cloud.js\"></script>\n",
        "        <script>\n",
        "            //var fill = d3.scale.category20();\n",
        "            var fill = function() { return \"black\"; };\n",
        "\n",
        "            function wordle(words,opts) {\n",
        "\n",
        "                var word_counts = {},\n",
        "                    word_list = [],\n",
        "                    opts = opts || {},\n",
        "                    width, height,\n",
        "                    title_bbox, title_transf,\n",
        "                    font_size_scale = d3.scale.linear(),\n",
        "                    count_min = 1e5, count_max = 0,\n",
        "                    stopWords = ['in','on','of','or','to'],\n",
        "                    i;\n",
        "\n",
        "                opts.target = opts.target || \"body\";\n",
        "                width = opts.width || 600;\n",
        "                height = opts.height || 600;\n",
        "\n",
        "                for(i=0; i < words.length; i++) {\n",
        "                    if(stopWords.indexOf(words[i]) == -1) {\n",
        "                        word_counts[words[i]] = (word_counts[words[i]] || 0) + 1;\n",
        "                    }\n",
        "                }\n",
        "\n",
        "                for(i in word_counts) {\n",
        "                    count_min = Math.min(word_counts[i],count_min);\n",
        "                    count_max = Math.max(word_counts[i],count_max);\n",
        "                    word_list.push({text:i,count:word_counts[i]});\n",
        "                }\n",
        "          \n",
        "                font_size_scale\n",
        "                    .domain([count_min,count_max])\n",
        "                    .range([Math.max(10,14*width/600),56*height/600]);\n",
        "\n",
        "                exports.cloud().size([width, height])\n",
        "                    .words(word_list)\n",
        "                    .padding(5)\n",
        "                    .font(\"Impact\")\n",
        "                    .fontSize(function(d) { return font_size_scale(d.count); })\n",
        "                    .on(\"end\", draw)\n",
        "                    .start();\n",
        "            \n",
        "                function draw(words) {\n",
        "                    var svg = d3.select(opts.target).append(\"svg\"),\n",
        "                        title;\n",
        "                    svg.append(\"rect\")\n",
        "                        .attr({\"stroke\":\"black\",\n",
        "                               \"fill\":\"none\",\n",
        "                               \"width\":width+\"px\",\n",
        "                               \"height\":height+\"px\"\n",
        "                            });\n",
        "\n",
        "                    // do title in the background\n",
        "                    if(opts.title) {\n",
        "                        title = svg.append(\"text\")\n",
        "                            .attr({\n",
        "                                    stroke:\"none\",\n",
        "                                    fill:\"#ddd\",\n",
        "                                    \"font-size\":128*height/600,\n",
        "                                    dx:\"0.2em\",\n",
        "                                    dy:\"0.9em\"\n",
        "                                    })\n",
        "                            .text(opts.title);\n",
        "                        title_bbox = title.node().getBBox();\n",
        "                        console.log(title_bbox);\n",
        "                        if(title_bbox.width > width) {\n",
        "                            title_transf = \"scale(\"+width/title_bbox.width+\")\";\n",
        "                        }\n",
        "                        title.attr(\"transform\",title_transf);\n",
        "                    }\n",
        "                    \n",
        "                    svg\n",
        "                        .attr(\"width\", width)\n",
        "                        .attr(\"height\", height)\n",
        "                        .append(\"g\")\n",
        "                        .attr(\"transform\", \"translate(\"+~~(width/2)+\",\"+~~(height/2)+\")\")\n",
        "                        .selectAll(\"text\")\n",
        "                        .data(words)\n",
        "                        .enter().append(\"text\")\n",
        "                        .style(\"font-size\", function(d) { return d.size + \"px\"; })\n",
        "                        .style(\"font-family\", \"Impact\")\n",
        "                        .style(\"fill\", function(d, i) { return fill(i); })\n",
        "                        .attr(\"text-anchor\", \"middle\")\n",
        "                        .attr(\"transform\", function(d) {\n",
        "                            return \"translate(\" + [d.x, d.y] + \")rotate(\"+d.rotate+\")\";\n",
        "                         })\n",
        "                        .text(function(d) { return d.text; })\n",
        "                        .on(\"mouseover\",function(d) { console.log(d); });\n",
        "                }\n",
        "            }\n",
        "        </script>\n",
        "        ipynb wordle setup, version 0.1<br/>\n",
        "        call like:<br/> <code>wordle(['list','of','words'],width=600,height=300,title=\"The Good Stuff\")</code><br/>\n",
        "        change defaults: <code>wordle_width=N</code>, <code>wordle_height=N</code>"
       ],
       "output_type": "display_data",
       "text": [
        "<IPython.core.display.HTML at 0x234cc90>"
       ]
      }
     ],
     "prompt_number": 1
    },
    {
     "cell_type": "code",
     "collapsed": false,
     "input": [
      "import numpy.random as nr\n",
      "import random\n",
      "word_list = urllib2.urlopen('http://adamlabadorf.github.io/d3-cloud/word_list.txt').readlines()\n",
      "words = [w.strip() for w in word_list]"
     ],
     "language": "python",
     "metadata": {},
     "outputs": [],
     "prompt_number": 30
    },
    {
     "cell_type": "code",
     "collapsed": false,
     "input": [
      "wordlewords = []\n",
      "for i in range(100) :\n",
      "    w, t = random.sample(words,1),nr.poisson()\n",
      "    wordlewords.extend(w*t)\n",
      "wordle(wordlewords,width=600,height=300,title='The Good Stuff')"
     ],
     "language": "python",
     "metadata": {},
     "outputs": [
      {
       "html": [
        "\n",
        "<div id=\"wordle2\"></div>\n",
        "<script type=\"text/javascript\">\n",
        "var intID_wordle2 = window.setInterval(\n",
        "    function() {\n",
        "        var wordle_id = '#wordle2';\n",
        "        try {\n",
        "            exports;\n",
        "            if(exports.cloud && !d3.select(wordle_id).empty()) {\n",
        "                wordle([\"congruous\",\"underused\",\"plea\",\"plea\",\"tinting\",\"tinting\",\"defile\",\"defile\",\"defile\",\"behooves\",\"voltage\",\"nutritional\",\"wrests\",\"accessioned\",\"accessioned\",\"polymaths\",\"tag\",\"Bakersfield\",\"roger\",\"bridge\",\"Sendai\",\"Sendai\",\"appliqu\u00e9\",\"appliqu\u00e9\",\"trap\",\"piccolo\",\"whiz\",\"whiz\",\"harried\",\"shunting\",\"shunting\",\"shunting\",\"Nightingale\",\"Dare\",\"Dare\",\"sabotage\",\"stouter\",\"stouter\",\"stouter\",\"baring\",\"baring\",\"dozens\",\"dozens\",\"footings\",\"footings\",\"footings\",\"flicking\",\"grassland\",\"know\",\"know\",\"know\",\"know\",\"insurance\",\"depending\",\"depending\",\"kites\",\"ostracized\",\"trivia\",\"cottonmouths\",\"triglyceride\",\"goaltenders\",\"goaltenders\",\"Hench\",\"singsong\",\"decoder\",\"limps\",\"chips\",\"chips\",\"lathering\",\"lathering\",\"assertions\",\"mediation\",\"flapper\",\"flapper\",\"flapper\",\"aggregations\",\"typists\",\"typists\",\"typists\",\"recriminated\",\"recriminated\",\"Revelations\",\"disrepute\",\"disrepute\",\"disrepute\",\"minces\",\"festering\",\"tracheas\",\"oddballs\",\"oddballs\",\"pineapples\",\"pineapples\",\"pineapples\",\"pineapples\",\"pineapples\",\"earthy\",\"earthy\",\"earthy\",\"danker\",\"danker\",\"matriculates\",\"Falklands\",\"unmercifully\",\"solving\",\"solving\",\"solving\",\"solving\",\"regrouped\",\"Vietnamese\",\"kindlier\",\"kindlier\",\"bookmarking\",\"bookmarking\",\"presumed\",\"presumed\"],\n",
        "                       {target:wordle_id,\n",
        "                        width:600,\n",
        "                        height:300,\n",
        "                        title:\"The Good Stuff\"\n",
        "                       });\n",
        "                window.clearInterval(intID_wordle2);\n",
        "            }\n",
        "        } catch(e) {\n",
        "            console.log('d3-cloud not loaded yet:'+e);\n",
        "        }\n",
        "    },500);\n",
        "</script>"
       ],
       "output_type": "display_data",
       "text": [
        "<IPython.core.display.HTML at 0x4095590>"
       ]
      }
     ],
     "prompt_number": 19
    },
    {
     "cell_type": "code",
     "collapsed": false,
     "input": [
      "wordlewords = []\n",
      "for i in range(500) :\n",
      "    w, t = random.sample(words,1),nr.poisson()\n",
      "    wordlewords.extend(w*t)\n",
      "wordle(wordlewords,width=800,height=800,title='Hugeness')"
     ],
     "language": "python",
     "metadata": {},
     "outputs": [
      {
       "html": [
        "\n",
        "<div id=\"wordle3\"></div>\n",
        "<script type=\"text/javascript\">\n",
        "var intID_wordle3 = window.setInterval(\n",
        "    function() {\n",
        "        var wordle_id = '#wordle3';\n",
        "        try {\n",
        "            exports;\n",
        "            if(exports.cloud && !d3.select(wordle_id).empty()) {\n",
        "                wordle([\"refurbished\",\"refurbished\",\"capaciousness\",\"capaciousness\",\"capaciousness\",\"cincture\",\"recopies\",\"recopies\",\"evaporates\",\"ancients\",\"ancients\",\"ancients\",\"crinkled\",\"crinkled\",\"wildcatted\",\"wildcatted\",\"wildcatted\",\"wildcatted\",\"funds\",\"crossed\",\"comprehended\",\"chicaneries\",\"chicaneries\",\"globetrotters\",\"invalidating\",\"invalidating\",\"regimenting\",\"foaling\",\"rescind\",\"Hershel\",\"postponing\",\"postponing\",\"manufacturing\",\"manufacturing\",\"goddaughters\",\"corked\",\"Lucinda\",\"sissies\",\"sissies\",\"exonerate\",\"unpalatable\",\"Confederate\",\"Confederate\",\"immigrate\",\"vapid\",\"calisthenic\",\"calisthenic\",\"calisthenic\",\"drum\",\"reigns\",\"krone\",\"krone\",\"topology\",\"topology\",\"topology\",\"muddy\",\"wallows\",\"maxillae\",\"brazenness\",\"headmistresses\",\"slickly\",\"continuity\",\"continuity\",\"brimming\",\"Rushdie\",\"dampest\",\"huskies\",\"huskies\",\"transfixes\",\"transfixes\",\"transfixes\",\"snowball\",\"snowball\",\"dismounts\",\"Allegra\",\"Allegra\",\"Fowler\",\"knight\",\"crinkled\",\"crinkled\",\"meters\",\"ameba\",\"ameba\",\"clink\",\"clink\",\"plasticity\",\"plasticity\",\"handball\",\"austerities\",\"colloquia\",\"pulpit\",\"Britten\",\"Britten\",\"tureen\",\"tureen\",\"express\",\"redesigning\",\"Andalusian\",\"Abdul\",\"Abdul\",\"Abdul\",\"concessions\",\"concessions\",\"concessions\",\"payroll\",\"payroll\",\"trudges\",\"summoner\",\"requisitioned\",\"lessening\",\"lessening\",\"Bullock\",\"quorum\",\"quorum\",\"restate\",\"creamiest\",\"unhurt\",\"configurations\",\"approaching\",\"approaching\",\"Eris\",\"Eris\",\"Moseley\",\"bedazzles\",\"bedazzles\",\"disfavor\",\"disfavor\",\"bower\",\"Cheyennes\",\"jumbo\",\"jumbo\",\"moldings\",\"husker\",\"husker\",\"eventuality\",\"eventuality\",\"eventuality\",\"monochrome\",\"Ohioan\",\"fauns\",\"Dylan\",\"Dylan\",\"temporaries\",\"dean\",\"dean\",\"roughhousing\",\"Hinayana\",\"Sweeney\",\"illicit\",\"illicit\",\"disreputable\",\"disreputable\",\"regurgitates\",\"bum\",\"yew\",\"peddle\",\"damask\",\"twiddled\",\"twiddled\",\"twiddled\",\"lathers\",\"lathers\",\"lathers\",\"leafletting\",\"fingerprints\",\"loopholes\",\"demobilizes\",\"demobilizes\",\"demobilizes\",\"visor\",\"visor\",\"napping\",\"grenadier\",\"grenadier\",\"interluded\",\"sourdough\",\"sourdough\",\"subhuman\",\"backbit\",\"brogue\",\"wrongdoing\",\"quarterbacking\",\"disbursed\",\"unsanctioned\",\"unsanctioned\",\"ideas\",\"ideas\",\"ideas\",\"clothespin\",\"adapt\",\"adapt\",\"Bertie\",\"metastasizes\",\"Rickover\",\"Rickover\",\"obtainable\",\"obtainable\",\"Del\",\"Del\",\"bisque\",\"bisque\",\"bisque\",\"bisque\",\"streamers\",\"streamers\",\"pepsin\",\"epilogue\",\"epilogue\",\"epilogue\",\"chemist\",\"chemist\",\"Honduran\",\"Honduran\",\"envy\",\"grungiest\",\"grungiest\",\"pities\",\"qualification\",\"qualification\",\"qualification\",\"laziness\",\"laziness\",\"sperms\",\"pallets\",\"consolations\",\"smokiness\",\"Beryl\",\"cryptically\",\"cryptically\",\"whopping\",\"harks\",\"harks\",\"arranging\",\"arranging\",\"Hogwarts\",\"Hogwarts\",\"Athabasca\",\"Athabasca\",\"Akron\",\"Akron\",\"asps\",\"there\",\"Daumier\",\"centaurs\",\"centaurs\",\"centaurs\",\"thriftily\",\"nitwit\",\"nitwit\",\"bunged\",\"tiresome\",\"etymology\",\"Oreo\",\"Oreo\",\"Brock\",\"remittance\",\"remittance\",\"disfigurements\",\"breasted\",\"breasted\",\"psychiatric\",\"slue\",\"slue\",\"spawn\",\"spawn\",\"sparsity\",\"Cliff\",\"Cliff\",\"fourteenths\",\"marquis\",\"turbans\",\"canticle\",\"discouraged\",\"disagrees\",\"disagrees\",\"division\",\"quilting\",\"quilting\",\"adulterating\",\"adulterating\",\"annular\",\"gristliest\",\"gristliest\",\"gristliest\",\"gristliest\",\"brilliancy\",\"brilliancy\",\"brilliancy\",\"frighten\",\"frighten\",\"frighten\",\"frighten\",\"intermittently\",\"unwariest\",\"dactylics\",\"skittering\",\"hysteric\",\"modern\",\"modern\",\"encode\",\"encode\",\"encode\",\"conning\",\"conning\",\"conning\",\"pebbly\",\"stopover\",\"swab\",\"swab\",\"swab\",\"obstructs\",\"obstructs\",\"obstructs\",\"aristocrat\",\"totting\",\"dud\",\"hanging\",\"hanging\",\"rapacious\",\"rapacious\",\"rots\",\"persecuted\",\"unassuming\",\"unassuming\",\"unassuming\",\"howdy\",\"braising\",\"democracies\",\"democracies\",\"democracies\",\"mainsprings\",\"reverting\",\"reverting\",\"furnishing\",\"interesting\",\"chiselled\",\"chiselled\",\"chiselled\",\"snakiest\",\"snakiest\",\"farces\",\"farces\",\"farces\",\"farces\",\"additives\",\"pluck\",\"pluck\",\"filterable\",\"carols\",\"carols\",\"lenient\",\"lenient\",\"snorkelling\",\"avenging\",\"avenging\",\"avenging\",\"gurgle\",\"gurgle\",\"Gucci\",\"Gucci\",\"pause\",\"pause\",\"waspish\",\"waspish\",\"waspish\",\"Eli\",\"Eli\",\"intrenchment\",\"falsifying\",\"cramp\",\"cramp\",\"sprightliest\",\"graciously\",\"forges\",\"renovating\",\"Segre\",\"infrequent\",\"Amelia\",\"displayable\",\"displayable\",\"inseparability\",\"retina\",\"mandrills\",\"beers\",\"racily\",\"flicks\",\"flicks\",\"susceptibility\",\"susceptibility\",\"decor\",\"biophysicists\",\"Portia\",\"Portia\",\"forbear\",\"method\",\"refrigerators\",\"refrigerators\",\"aniseed\",\"aniseed\",\"aniseed\",\"nontrivial\",\"bayonet\",\"unbeatable\",\"Olympic\",\"Olympic\",\"Olympic\",\"gammas\",\"relived\",\"relived\",\"ripping\",\"Avon\",\"Avon\",\"presumption\",\"ascendancy\",\"flotations\",\"priding\",\"priding\",\"priding\",\"pontificated\",\"hormonal\",\"hormonal\",\"friendliness\",\"polyglot\",\"woofing\",\"woofing\",\"decorations\",\"decorations\",\"antis\",\"visuals\",\"coma\",\"coma\",\"dullness\",\"dullness\",\"rummage\",\"girlhood\",\"sheepishness\",\"sheepishness\",\"irretrievably\",\"marbled\",\"Hippocratic\",\"Hippocratic\",\"mollycoddles\",\"mollycoddles\",\"Toshiba\",\"alarmingly\",\"disobedience\",\"disobedience\",\"underpinned\",\"detoxifies\",\"Merthiolate\",\"sharpeners\",\"insists\",\"insists\",\"forefathers\",\"wrinkled\",\"wrinkled\",\"innuendoes\",\"outclasses\",\"arbiter\",\"clinked\",\"clinked\",\"fist\",\"ritzier\",\"tam\",\"rigged\",\"democratized\",\"democratized\",\"democratized\",\"precedents\",\"hereto\",\"Epstein\",\"implies\",\"necessaries\",\"suffuse\",\"essence\",\"essence\",\"essence\",\"servicing\",\"servicing\",\"webmistresses\",\"webmistresses\",\"webmistresses\",\"snidest\",\"Andrei\",\"Andrei\",\"Andrei\",\"dine\",\"dine\",\"host\",\"host\",\"candies\",\"candies\",\"felted\",\"defy\",\"Rambo\",\"liniments\",\"liniments\"],\n",
        "                       {target:wordle_id,\n",
        "                        width:800,\n",
        "                        height:800,\n",
        "                        title:\"Hugeness\"\n",
        "                       });\n",
        "                window.clearInterval(intID_wordle3);\n",
        "            }\n",
        "        } catch(e) {\n",
        "            console.log('d3-cloud not loaded yet:'+e);\n",
        "        }\n",
        "    },500);\n",
        "</script>"
       ],
       "output_type": "display_data",
       "text": [
        "<IPython.core.display.HTML at 0x4095490>"
       ]
      }
     ],
     "prompt_number": 20
    }
   ],
   "metadata": {}
  }
 ]
}